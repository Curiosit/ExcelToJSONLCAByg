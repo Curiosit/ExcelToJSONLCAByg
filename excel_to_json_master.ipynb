{
 "cells": [
  {
   "cell_type": "code",
   "execution_count": 1,
   "id": "d2fba210",
   "metadata": {},
   "outputs": [],
   "source": [
    "####### Excel to LCAByg JSON"
   ]
  },
  {
   "cell_type": "code",
   "execution_count": 2,
   "id": "4c4db63c",
   "metadata": {},
   "outputs": [
    {
     "name": "stdout",
     "output_type": "stream",
     "text": [
      "Building Excel File loaded successfully\n",
      "  Title Address  Area  HeatedFloorArea  GrossAreaOverGround  GrossArea\n",
      "0   XXX     XXX  9239            10108                 9239       9239\n",
      "Files exported successfully\n"
     ]
    }
   ],
   "source": [
    "%run ./excel_create_building_json.ipynb"
   ]
  },
  {
   "cell_type": "code",
   "execution_count": 3,
   "id": "0d32047c",
   "metadata": {},
   "outputs": [
    {
     "name": "stdout",
     "output_type": "stream",
     "text": [
      "products Excel File loaded successfully\n",
      "                   Name    Product_name                               Stageid  \\\n",
      "0  Test-phase-m2(A1-A3)  Testproduct m2  9a539756-8e02-4d73-9bc6-c41788863912   \n",
      "\n",
      "  source  stage stage_unit indicator_unit   valid_to  stage_factor  \\\n",
      "0   User  A1to3         M2             M2 2025-01-01             1   \n",
      "\n",
      "   mass_factor  ...  ODP POCP AP EP ADPE  ADPF  PENR  PER  SENR  SER  \n",
      "0          100  ...    0    0  0  0    0     0     0    0     0    0  \n",
      "\n",
      "[1 rows x 26 columns]\n",
      "2025-01-01\n",
      "2025-01-01\n",
      "0\n",
      "1\n",
      "0\n",
      "1\n",
      "Files exported successfully\n",
      "Files exported successfully\n"
     ]
    }
   ],
   "source": [
    "%run ./excel_create_stages_json.ipynb"
   ]
  },
  {
   "cell_type": "code",
   "execution_count": 4,
   "id": "0007b6ac",
   "metadata": {},
   "outputs": [
    {
     "name": "stdout",
     "output_type": "stream",
     "text": [
      "products Excel File loaded successfully\n",
      "       Row Labels     EnglishName      RevitNames     Polish name  \\\n",
      "0  Testproduct m2  Testproduct m2  Testproduct m2  Testproduct m2   \n",
      "\n",
      "         LCABYGmaterial  Amount Unit                             Productid  \\\n",
      "0  Kalksandsten (A1-A3)       1   M3  51bcec85-9105-4946-8a8a-51219bf9adfa   \n",
      "\n",
      "                         ProductToStage                                  A1A3  \\\n",
      "0  61a77bc8-bddb-4521-9862-e613e26a5661  e60d6a55-44e3-5ade-88f5-07e0fd29d1d0   \n",
      "\n",
      "                                     C3   C4  \\\n",
      "0  caa5e6c3-0efd-53b6-8b9b-2142880cc69f  XXX   \n",
      "\n",
      "                                      D  \n",
      "0  9a4ebb4a-f90a-5e0b-b5b5-76b0a965c1f0  \n",
      "0\n",
      "0\n",
      "Phase empty\n",
      "1\n",
      "1\n",
      "Phase empty\n",
      "2\n",
      "2\n",
      "Phase empty\n",
      "3\n",
      "3\n",
      "Phase empty\n",
      "4\n",
      "4\n",
      "Phase empty\n",
      "Files exported successfully\n"
     ]
    }
   ],
   "source": [
    "%run ./excel_create_product_json.ipynb"
   ]
  },
  {
   "cell_type": "code",
   "execution_count": 5,
   "id": "6e960b2d",
   "metadata": {
    "scrolled": false
   },
   "outputs": [
    {
     "name": "stdout",
     "output_type": "stream",
     "text": [
      "Konstruktioner Excel File loaded successfully\n",
      "  Row Labels  Sum of Area            Lot  ProductAmount Unit  \\\n",
      "0    Wall 01           15  21. YDERVÆGGE              1   M2   \n",
      "1    Wall 02           25  21. YDERVÆGGE              1   M2   \n",
      "\n",
      "                              Layers  \n",
      "0  Reinf Concrete 100_Insulation 250  \n",
      "1      Silicate A 100_Insulation 150  \n",
      "Products Excel File loaded successfully\n",
      "       Row Labels     EnglishName      RevitNames     Polish name  \\\n",
      "0  Testproduct m2  Testproduct m2  Testproduct m2  Testproduct m2   \n",
      "1   Testproduct m   Testproduct m   Testproduct m   Testproduct m   \n",
      "\n",
      "         LCABYGmaterial  Amount Unit                             Productid  \\\n",
      "0  Kalksandsten (A1-A3)       1   M3  51bcec85-9105-4946-8a8a-51219bf9adfa   \n",
      "1  Kalksandsten (A1-A3)       1   M2  5dcafff0-1ec7-49e7-b425-fff6d1a0e03f   \n",
      "\n",
      "                         ProductToStage                                  A1A3  \\\n",
      "0  61a77bc8-bddb-4521-9862-e613e26a5661  e60d6a55-44e3-5ade-88f5-07e0fd29d1d0   \n",
      "1  e85a401f-2cb7-4de5-a3a2-ac222cfad9ef  e60d6a55-44e3-5ade-88f5-07e0fd29d1d0   \n",
      "\n",
      "                                     C3   C4  \\\n",
      "0  caa5e6c3-0efd-53b6-8b9b-2142880cc69f  XXX   \n",
      "1  caa5e6c3-0efd-53b6-8b9b-2142880cc69f  XXX   \n",
      "\n",
      "                                      D  \n",
      "0  9a4ebb4a-f90a-5e0b-b5b5-76b0a965c1f0  \n",
      "1  9a4ebb4a-f90a-5e0b-b5b5-76b0a965c1f0  \n",
      "Other Excel File loaded successfully\n",
      "Empty DataFrame\n",
      "Columns: [Row Labels, Sum of Area, Lot, Unit, Layers, Assumption, Coefficient, Multiplier]\n",
      "Index: []\n",
      "Added element:\n",
      "12. FUNDAMENTER\n",
      "Added element:\n",
      "13. TERRÆNDÆK\n",
      "Added element:\n",
      "21. YDERVÆGGE\n",
      "Added construction\n",
      "Wall 01\n",
      "15\n",
      "Layers:\n",
      "['Reinf Concrete 100', 'Insulation 250']\n",
      "Reinf Concrete 100\n",
      "Products:\n",
      "Reinf Concrete\n",
      "Amount from layer:\n",
      "100\n",
      "M3\n",
      "Previous layer:\n",
      "\n",
      "Productid:\n",
      "060433ef-da27-42e8-913a-f0a53ea669c5\n",
      "LCABYG Name:\n",
      "Beton C25/30, fabriksbeton og betonelementer\n",
      "Final amount:\n",
      "1.0\n",
      "Insulation 250\n",
      "Products:\n",
      "Insulation\n",
      "Amount from layer:\n",
      "250\n",
      "M3\n",
      "Previous layer:\n",
      "\n",
      "Productid:\n",
      "76512542-a104-4733-9f37-884d4083cbb1\n",
      "LCABYG Name:\n",
      "Mineraluld, facadesystem\n",
      "Final amount:\n",
      "2.5\n",
      "Added construction\n",
      "Wall 02\n",
      "25\n",
      "Layers:\n",
      "['Silicate A 100', 'Insulation 150']\n",
      "Silicate A 100\n",
      "Products:\n",
      "Silicate A\n",
      "Amount from layer:\n",
      "100\n",
      "M3\n",
      "Previous layer:\n",
      "\n",
      "Productid:\n",
      "0580737a-4123-4707-a6ec-29e793ef4d21\n",
      "LCABYG Name:\n",
      "Kalksandsten\n",
      "Final amount:\n",
      "1.0\n",
      "Insulation 150\n",
      "Products:\n",
      "Insulation\n",
      "Amount from layer:\n",
      "150\n",
      "M3\n",
      "Previous layer:\n",
      "\n",
      "Productid:\n",
      "76512542-a104-4733-9f37-884d4083cbb1\n",
      "LCABYG Name:\n",
      "Mineraluld, facadesystem\n",
      "Final amount:\n",
      "1.5\n",
      "Added element:\n",
      "22. INDERVÆGGE\n",
      "Added element:\n",
      "23. ETAGEDÆK\n",
      "Added element:\n",
      "27. TAGE\n",
      "Added element:\n",
      "31. YDERVÆGGE, KOMPLETTERING\n",
      "Added element:\n",
      "43. GULVE\n",
      "Added element:\n",
      "45. LOFTER\n",
      "Files exported successfully\n"
     ]
    }
   ],
   "source": [
    "%run ./excel_to_lcabygjson.ipynb\n"
   ]
  },
  {
   "cell_type": "code",
   "execution_count": null,
   "id": "9f8123f1",
   "metadata": {},
   "outputs": [],
   "source": []
  },
  {
   "cell_type": "code",
   "execution_count": null,
   "id": "fa342c8e",
   "metadata": {},
   "outputs": [],
   "source": []
  },
  {
   "cell_type": "code",
   "execution_count": null,
   "id": "6a40292b",
   "metadata": {},
   "outputs": [],
   "source": []
  }
 ],
 "metadata": {
  "kernelspec": {
   "display_name": "Python 3",
   "language": "python",
   "name": "python3"
  },
  "language_info": {
   "codemirror_mode": {
    "name": "ipython",
    "version": 3
   },
   "file_extension": ".py",
   "mimetype": "text/x-python",
   "name": "python",
   "nbconvert_exporter": "python",
   "pygments_lexer": "ipython3",
   "version": "3.7.6"
  }
 },
 "nbformat": 4,
 "nbformat_minor": 5
}
