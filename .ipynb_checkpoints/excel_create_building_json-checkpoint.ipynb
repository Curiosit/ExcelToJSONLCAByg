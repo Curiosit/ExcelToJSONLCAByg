{
 "cells": [
  {
   "cell_type": "code",
   "execution_count": 1,
   "id": "05376cd4",
   "metadata": {},
   "outputs": [],
   "source": [
    "import json\n",
    "import ifcopenshell\n",
    "import ifcHelper \n",
    "import pandas as pd\n",
    "import numpy as np\n",
    "import lcabygjson\n",
    "import uuid"
   ]
  },
  {
   "cell_type": "code",
   "execution_count": 2,
   "id": "4c6c7063",
   "metadata": {},
   "outputs": [
    {
     "name": "stdout",
     "output_type": "stream",
     "text": [
      "Building Excel File loaded successfully\n",
      "  Title Address  Area  HeatedFloorArea  GrossAreaOverGround  GrossArea\n",
      "0   XXX     XXX  9239            10108                 9239       9239\n"
     ]
    }
   ],
   "source": [
    "file_name =  'exceldata.xls'\n",
    "sheet_building =  'Building' # sheet name or sheet number or list of sheet numbers and names\n",
    "\n",
    "try:\n",
    "  building_df = pd.read_excel(io=file_name, sheet_name=sheet_building)\n",
    "  print(\"Building Excel File loaded successfully\")\n",
    "  print(building_df.head(2))  # print first 5 rows of the dataframe\n",
    "except:\n",
    "  print(\"An exception occurred\")\n"
   ]
  },
  {
   "cell_type": "code",
   "execution_count": null,
   "id": "ceda3567",
   "metadata": {},
   "outputs": [],
   "source": []
  },
  {
   "cell_type": "code",
   "execution_count": 3,
   "id": "90941945",
   "metadata": {},
   "outputs": [
    {
     "data": {
      "text/plain": [
       "'XXX'"
      ]
     },
     "execution_count": 3,
     "metadata": {},
     "output_type": "execute_result"
    }
   ],
   "source": [
    "building_df['Address'].values[0]"
   ]
  },
  {
   "cell_type": "code",
   "execution_count": null,
   "id": "7833cf9b",
   "metadata": {},
   "outputs": [],
   "source": []
  },
  {
   "cell_type": "code",
   "execution_count": 4,
   "id": "8662d76d",
   "metadata": {},
   "outputs": [],
   "source": [
    "json_array_building = []"
   ]
  },
  {
   "cell_type": "code",
   "execution_count": 5,
   "id": "6287b7ad",
   "metadata": {},
   "outputs": [],
   "source": [
    "\n",
    "building_properties = {'id': '6d766aa5-50aa-4005-ab35-29f2fb82ddad',  'name': {'Danish': 'Building file created via JsonLCABygExporter', 'English': 'Building file created via JsonLCABygExporter'}, \"address\": str(building_df['Address'].values[0]), \"owner\": \"\",  \"description\": \"Import from Excel\", \"building_type\": \"Other\",  \"heated_floor_area\": int(building_df['HeatedFloorArea'].values[0]), \"gross_area\": int(building_df['GrossArea'].values[0]), \"gross_area_above_ground\": int(building_df['GrossAreaOverGround'].values[0]), \"storeys_above_ground\": 1, \"storeys_below_ground\": 0, \"storey_height\": 3, \"initial_year\": 2022, \"calculation_timespan\": 50, \"calculation_mode\": \"SC\", \"lca_advisor\": \"Bjerg Arkitektur\", \"building_regulation_version\": \"BR2018\", \"plot_area\": 1000, \"outside_area\": 0, \"energy_class\": \"LowEnergy\"}\n",
    "building_set = {'Building': building_properties}\n",
    "building_node = {'Node': building_set}\n",
    "json_array_building.append(building_node)\n",
    "    \n"
   ]
  },
  {
   "cell_type": "code",
   "execution_count": 6,
   "id": "90566028",
   "metadata": {},
   "outputs": [],
   "source": [
    "### Edge1\n",
    "building_edge_details = {'id': '15867192-86b7-40a8-9936-83d9e998516d'}\n",
    "building_edge_data = [{'MainBuilding': '15867192-86b7-40a8-9936-83d9e998516d'}, 'e9e6e798-390e-4419-a1fa-3b46a8ba5b8d', '6d766aa5-50aa-4005-ab35-29f2fb82ddad' ]\n",
    "building_edge = {'Edge': building_edge_data}\n",
    "json_array_building.append(building_edge)"
   ]
  },
  {
   "cell_type": "code",
   "execution_count": 7,
   "id": "e5162542",
   "metadata": {},
   "outputs": [],
   "source": [
    "### Edge2\n",
    "building_edge_details = {'id': 'bc35b94d-b8c0-4b8c-9bf3-3f63acc94063'}\n",
    "building_edge_data = [{'BuildingToRoot': 'bc35b94d-b8c0-4b8c-9bf3-3f63acc94063'}, '6d766aa5-50aa-4005-ab35-29f2fb82ddad', '216cf5d6-3e9d-43ec-b0d8-5aee02240c28' ]\n",
    "building_edge = {'Edge': building_edge_data}\n",
    "json_array_building.append(building_edge)"
   ]
  },
  {
   "cell_type": "code",
   "execution_count": 8,
   "id": "6ae166d5",
   "metadata": {},
   "outputs": [],
   "source": [
    "### Edge3\n",
    "building_edge_details = {'id': '0c35b94d-b8a0-4bec-92f3-3463acc94064'}\n",
    "building_edge_data = [{'BuildingToOperation': '0c35b94d-b8a0-4bec-92f3-3463acc94064'}, '6d766aa5-50aa-4005-ab35-29f2fb82ddad', '0338d31e-3876-440d-a88c-2daa2dd81942' ]\n",
    "building_edge = {'Edge': building_edge_data}\n",
    "json_array_building.append(building_edge)"
   ]
  },
  {
   "cell_type": "code",
   "execution_count": 9,
   "id": "c89a20c0",
   "metadata": {},
   "outputs": [
    {
     "data": {
      "text/plain": [
       "[{'Node': {'Building': {'id': '6d766aa5-50aa-4005-ab35-29f2fb82ddad',\n",
       "    'name': {'Danish': 'Building file created via JsonLCABygExporter',\n",
       "     'English': 'Building file created via JsonLCABygExporter'},\n",
       "    'address': 'XXX',\n",
       "    'owner': '',\n",
       "    'description': 'Import from Excel',\n",
       "    'building_type': 'Other',\n",
       "    'heated_floor_area': 10108,\n",
       "    'gross_area': 9239,\n",
       "    'gross_area_above_ground': 9239,\n",
       "    'storeys_above_ground': 1,\n",
       "    'storeys_below_ground': 0,\n",
       "    'storey_height': 3,\n",
       "    'initial_year': 2022,\n",
       "    'calculation_timespan': 50,\n",
       "    'calculation_mode': 'SC',\n",
       "    'lca_advisor': 'Bjerg Arkitektur',\n",
       "    'building_regulation_version': 'BR2018',\n",
       "    'plot_area': 1000,\n",
       "    'outside_area': 0,\n",
       "    'energy_class': 'LowEnergy'}}},\n",
       " {'Edge': [{'MainBuilding': '15867192-86b7-40a8-9936-83d9e998516d'},\n",
       "   'e9e6e798-390e-4419-a1fa-3b46a8ba5b8d',\n",
       "   '6d766aa5-50aa-4005-ab35-29f2fb82ddad']},\n",
       " {'Edge': [{'BuildingToRoot': 'bc35b94d-b8c0-4b8c-9bf3-3f63acc94063'},\n",
       "   '6d766aa5-50aa-4005-ab35-29f2fb82ddad',\n",
       "   '216cf5d6-3e9d-43ec-b0d8-5aee02240c28']},\n",
       " {'Edge': [{'BuildingToOperation': '0c35b94d-b8a0-4bec-92f3-3463acc94064'},\n",
       "   '6d766aa5-50aa-4005-ab35-29f2fb82ddad',\n",
       "   '0338d31e-3876-440d-a88c-2daa2dd81942']}]"
      ]
     },
     "execution_count": 9,
     "metadata": {},
     "output_type": "execute_result"
    }
   ],
   "source": [
    "json_array_building"
   ]
  },
  {
   "cell_type": "code",
   "execution_count": 10,
   "id": "025ffed2",
   "metadata": {},
   "outputs": [
    {
     "name": "stdout",
     "output_type": "stream",
     "text": [
      "An exception occurred\n"
     ]
    }
   ],
   "source": [
    "try:\n",
    "  with open('dk-lcabyg_json/building.json', 'w') as outfile:\n",
    "        json.dump(json_array_building, outfile,indent=4)\n",
    "\n",
    "  print(\"Files exported successfully\")\n",
    "except:\n",
    "  print(\"An exception occurred\")\n",
    "    \n"
   ]
  },
  {
   "cell_type": "code",
   "execution_count": 11,
   "id": "4005f687",
   "metadata": {},
   "outputs": [],
   "source": []
  },
  {
   "cell_type": "code",
   "execution_count": null,
   "id": "9c1022b0",
   "metadata": {},
   "outputs": [],
   "source": []
  },
  {
   "cell_type": "code",
   "execution_count": null,
   "id": "edc3f0b0",
   "metadata": {},
   "outputs": [],
   "source": []
  }
 ],
 "metadata": {
  "kernelspec": {
   "display_name": "Python 3",
   "language": "python",
   "name": "python3"
  },
  "language_info": {
   "codemirror_mode": {
    "name": "ipython",
    "version": 3
   },
   "file_extension": ".py",
   "mimetype": "text/x-python",
   "name": "python",
   "nbconvert_exporter": "python",
   "pygments_lexer": "ipython3",
   "version": "3.7.6"
  }
 },
 "nbformat": 4,
 "nbformat_minor": 5
}
