{
 "cells": [
  {
   "cell_type": "code",
   "execution_count": 17,
   "id": "09504efa",
   "metadata": {},
   "outputs": [],
   "source": [
    "import json\n",
    "import ifcopenshell\n",
    "import ifcHelper \n",
    "import pandas as pd\n",
    "import numpy as np\n",
    "import lcabygjson\n",
    "import uuid"
   ]
  },
  {
   "cell_type": "code",
   "execution_count": 18,
   "id": "f0fd974b",
   "metadata": {},
   "outputs": [
    {
     "name": "stdout",
     "output_type": "stream",
     "text": [
      "products Excel File loaded successfully\n",
      "                   Name    Product_name                               Stageid  \\\n",
      "0  Test-phase-m2(A1-A3)  Testproduct m2  9a539756-8e02-4d73-9bc6-c41788863912   \n",
      "\n",
      "  source  stage stage_unit indicator_unit   valid_to  stage_factor  \\\n",
      "0   User  A1to3         M2             M2 2025-01-01             1   \n",
      "\n",
      "   mass_factor  ...  ODP POCP AP EP ADPE  ADPF  PENR  PER  SENR  SER  \n",
      "0          100  ...    0    0  0  0    0     0     0    0     0    0  \n",
      "\n",
      "[1 rows x 26 columns]\n"
     ]
    }
   ],
   "source": [
    "file_name =  'exceldata.xls'\n",
    "sheet_products =  'Stages' # sheet name or sheet number or list of sheet numbers and names\n",
    "\n",
    "try:\n",
    "  stages_df = pd.read_excel(io=file_name, sheet_name=sheet_products)\n",
    "  print(\"products Excel File loaded successfully\")\n",
    "  print(stages_df.head(1))  # print first 5 rows of the dataframe\n",
    "except:\n",
    "  print(\"An exception occurred\")\n"
   ]
  },
  {
   "cell_type": "code",
   "execution_count": null,
   "id": "8519cfed",
   "metadata": {},
   "outputs": [],
   "source": []
  },
  {
   "cell_type": "code",
   "execution_count": 19,
   "id": "1597bc42",
   "metadata": {},
   "outputs": [],
   "source": [
    "names = stages_df['Name']\n",
    "Product_names = stages_df['Product_name']\n",
    "stageid = stages_df['Stageid']\n",
    "sources = stages_df['source']\n",
    "\n",
    "stage = stages_df['stage']\n",
    "stage_unit = stages_df['stage_unit']\n",
    "indicator_unit = stages_df['indicator_unit']\n",
    "stage_factor = stages_df['stage_factor']\n",
    "mass_factor = stages_df['mass_factor']\n",
    "indicator_factor = stages_df['indicator_factor']\n",
    "external_source = stages_df['external_source']\n",
    "external_source = stages_df['external_source']\n",
    "external_id = stages_df['external_id']\n",
    "external_url = stages_df['external_url']\n",
    "external_version =  stages_df['external_version']\n",
    "\n",
    "GWP = stages_df['GWP']\n",
    "ODP = stages_df['ODP']\n",
    "POCP = stages_df['POCP']\n",
    "AP = stages_df['AP']\n",
    "EP = stages_df['EP']\n",
    "ADPE = stages_df['ADPE']\n",
    "ADPF = stages_df['ADPF']\n",
    "PENR = stages_df['PENR']\n",
    "PER = stages_df['PER']\n",
    "SENR = stages_df['SENR']\n",
    "SER = stages_df['SER']\n",
    "\n",
    "indicators = [GWP,ODP,POCP, AP, EP, ADPE, ADPF, PENR, PER, SENR,SER]\n",
    "\n",
    "valid_to_datetime = stages_df['valid_to']"
   ]
  },
  {
   "cell_type": "code",
   "execution_count": 4,
   "id": "abbc6ce8",
   "metadata": {},
   "outputs": [
    {
     "data": {
      "text/plain": [
       "0   2025-01-01\n",
       "1   2025-01-01\n",
       "Name: valid_to, dtype: datetime64[ns]"
      ]
     },
     "execution_count": 4,
     "metadata": {},
     "output_type": "execute_result"
    }
   ],
   "source": [
    "valid_to_datetime"
   ]
  },
  {
   "cell_type": "code",
   "execution_count": 5,
   "id": "4498acc7",
   "metadata": {},
   "outputs": [
    {
     "name": "stdout",
     "output_type": "stream",
     "text": [
      "2025-01-01\n",
      "2025-01-01\n"
     ]
    },
    {
     "data": {
      "text/plain": [
       "['2025-01-01', '2025-01-01']"
      ]
     },
     "execution_count": 5,
     "metadata": {},
     "output_type": "execute_result"
    }
   ],
   "source": [
    "valid_date = []\n",
    "valid_to_datetime\n",
    "x = 0\n",
    "for time in valid_to_datetime:\n",
    "    print(str(valid_to_datetime[x].strftime('%Y-%m-%d')))\n",
    "    valid_date.append(str(valid_to_datetime[x].strftime('%Y-%m-%d')))\n",
    "    x += 1\n",
    "    \n",
    "valid_date\n"
   ]
  },
  {
   "cell_type": "code",
   "execution_count": 6,
   "id": "37ef3f70",
   "metadata": {},
   "outputs": [],
   "source": [
    "json_array_stages = []"
   ]
  },
  {
   "cell_type": "code",
   "execution_count": null,
   "id": "85f11bac",
   "metadata": {},
   "outputs": [],
   "source": []
  },
  {
   "cell_type": "code",
   "execution_count": 7,
   "id": "8b9ece65",
   "metadata": {},
   "outputs": [
    {
     "name": "stdout",
     "output_type": "stream",
     "text": [
      "0\n",
      "1\n"
     ]
    }
   ],
   "source": [
    "i=0\n",
    "\n",
    "for id in stageid:\n",
    "    comment = 'Stage ID created by ExcelJsonParser '\n",
    "    print (i)\n",
    "    stage_indicators = {'GWP': float(GWP[i]), 'ODP': float(ODP[i]), 'POCP':  float(POCP[i]), 'AP':  float(AP[i]), 'EP':  float(EP[i]), 'ADPE':  float(ADPE[i]), 'ADPF':  float(ADPF[i]), 'PENR':  float(PENR[i]), 'PER':  float(PER[i]), 'SENR':  float(SENR[i]), 'SER':  float(SER[i]) }\n",
    "    stage_properties = {'id': id,  'name': {'Danish': names[i], 'English': names[i]}, 'source': 'User','comment': comment,'locked': True, 'valid_to': str(valid_date[i]), 'stage': stage[i], 'stage_unit': stage_unit[i], 'indicator_unit': indicator_unit[i], 'stage_factor': float(stage_factor[i]), 'mass_factor': float(mass_factor[i]), 'indicator_factor': float(indicator_factor[i]), 'external_source': external_source[i], 'external_id': str(external_id), 'external_version': external_version[i], 'external_url': external_url[i], 'indicators': stage_indicators  }\n",
    "    stage_set = {'Stage': stage_properties}\n",
    "    stage_node = {'Node': stage_set}\n",
    "    json_array_stages.append(stage_node)\n",
    "        \n",
    "    i += 1"
   ]
  },
  {
   "cell_type": "code",
   "execution_count": 8,
   "id": "7916b7e8",
   "metadata": {},
   "outputs": [
    {
     "data": {
      "text/plain": [
       "[{'Node': {'Stage': {'id': '9a539756-8e02-4d73-9bc6-c41788863912',\n",
       "    'name': {'Danish': 'Test-phase-m2(A1-A3)',\n",
       "     'English': 'Test-phase-m2(A1-A3)'},\n",
       "    'source': 'User',\n",
       "    'comment': 'Stage ID created by ExcelJsonParser ',\n",
       "    'locked': True,\n",
       "    'valid_to': '2025-01-01',\n",
       "    'stage': 'A1to3',\n",
       "    'stage_unit': 'M2',\n",
       "    'indicator_unit': 'M2',\n",
       "    'stage_factor': 1.0,\n",
       "    'mass_factor': 100.0,\n",
       "    'indicator_factor': 1.0,\n",
       "    'external_source': 'ExcelJsonParser',\n",
       "    'external_id': '0    Test id\\n1    Test id\\nName: external_id, dtype: object',\n",
       "    'external_version': '00.00.011',\n",
       "    'external_url': 'https://github.com/Curiosit/Ifcparser',\n",
       "    'indicators': {'GWP': 1.0,\n",
       "     'ODP': 0.0,\n",
       "     'POCP': 0.0,\n",
       "     'AP': 0.0,\n",
       "     'EP': 0.0,\n",
       "     'ADPE': 0.0,\n",
       "     'ADPF': 0.0,\n",
       "     'PENR': 0.0,\n",
       "     'PER': 0.0,\n",
       "     'SENR': 0.0,\n",
       "     'SER': 0.0}}}},\n",
       " {'Node': {'Stage': {'id': 'e1991916-adb0-465a-89db-ab6ba7dad36a',\n",
       "    'name': {'Danish': 'Test-phase-m(A1-A3)',\n",
       "     'English': 'Test-phase-m(A1-A3)'},\n",
       "    'source': 'User',\n",
       "    'comment': 'Stage ID created by ExcelJsonParser ',\n",
       "    'locked': True,\n",
       "    'valid_to': '2025-01-01',\n",
       "    'stage': 'A1to3',\n",
       "    'stage_unit': 'M2',\n",
       "    'indicator_unit': 'M2',\n",
       "    'stage_factor': 1.0,\n",
       "    'mass_factor': 100.0,\n",
       "    'indicator_factor': 1.0,\n",
       "    'external_source': 'ExcelJsonParser',\n",
       "    'external_id': '0    Test id\\n1    Test id\\nName: external_id, dtype: object',\n",
       "    'external_version': '00.00.011',\n",
       "    'external_url': 'https://github.com/Curiosit/Ifcparser',\n",
       "    'indicators': {'GWP': 1.0,\n",
       "     'ODP': 0.0,\n",
       "     'POCP': 0.0,\n",
       "     'AP': 0.0,\n",
       "     'EP': 0.0,\n",
       "     'ADPE': 0.0,\n",
       "     'ADPF': 0.0,\n",
       "     'PENR': 0.0,\n",
       "     'PER': 0.0,\n",
       "     'SENR': 0.0,\n",
       "     'SER': 0.0}}}}]"
      ]
     },
     "execution_count": 8,
     "metadata": {},
     "output_type": "execute_result"
    }
   ],
   "source": [
    "json_array_stages"
   ]
  },
  {
   "cell_type": "code",
   "execution_count": null,
   "id": "89c5bb9f",
   "metadata": {
    "scrolled": false
   },
   "outputs": [],
   "source": []
  },
  {
   "cell_type": "code",
   "execution_count": 9,
   "id": "44495d97",
   "metadata": {},
   "outputs": [
    {
     "data": {
      "text/plain": [
       "[{'Node': {'StageCategory': {'id': '04be0ff0-908c-4a9e-8ddf-5760548941bf',\n",
       "    'name': {'Danish': 'Test underkategori', 'English': '', 'German': ''},\n",
       "    'external_class': '1.1.1'}}},\n",
       " {'Edge': [{'Generic': '2521f3f7-c2c7-4d12-adbc-a3db4ad4d7a7'},\n",
       "   '4cf6cca4-0814-42d3-b26d-c0dd3792bccd',\n",
       "   '61a77bc8-bddb-4521-9862-e613e26a5661']},\n",
       " {'Edge': [{'Generic': '3d1c7d0f-8f3f-4b4a-8bcd-269901a8b6a3'},\n",
       "   '4cf6cca4-0814-42d3-b26d-c0dd3792bccd',\n",
       "   'e85a401f-2cb7-4de5-a3a2-ac222cfad9ef']}]"
      ]
     },
     "execution_count": 9,
     "metadata": {},
     "output_type": "execute_result"
    }
   ],
   "source": [
    "[\n",
    "\t    {\n",
    "        \"Node\": {\n",
    "            \"StageCategory\": {\n",
    "                \"id\": \"04be0ff0-908c-4a9e-8ddf-5760548941bf\",\n",
    "                \"name\": {\n",
    "                    \"Danish\": \"Test underkategori\",\n",
    "                    \"English\": \"\",\n",
    "                    \"German\": \"\"\n",
    "                },\n",
    "                \"external_class\": \"1.1.1\"\n",
    "            }\n",
    "        }\n",
    "    },\n",
    "\t{\n",
    "        \"Edge\": [\n",
    "            {\n",
    "                \"Generic\": \"2521f3f7-c2c7-4d12-adbc-a3db4ad4d7a7\"\n",
    "            },\n",
    "            \"4cf6cca4-0814-42d3-b26d-c0dd3792bccd\",\n",
    "            \"61a77bc8-bddb-4521-9862-e613e26a5661\"\n",
    "        ]\n",
    "    },\n",
    "\t{\n",
    "        \"Edge\": [\n",
    "            {\n",
    "                \"Generic\": \"3d1c7d0f-8f3f-4b4a-8bcd-269901a8b6a3\"\n",
    "            },\n",
    "            \"4cf6cca4-0814-42d3-b26d-c0dd3792bccd\",\n",
    "            \"e85a401f-2cb7-4de5-a3a2-ac222cfad9ef\"\n",
    "        ]\n",
    "    }\n",
    "]"
   ]
  },
  {
   "cell_type": "code",
   "execution_count": 10,
   "id": "bb4dd26a",
   "metadata": {},
   "outputs": [],
   "source": [
    "\n",
    "json_array_stages_categories = []\n",
    "stage_category_properties = {'id': '04be0ff0-908c-4a9e-8ddf-5760548941bf',  'name': {'Danish': 'Test underkategori', 'English': 'Test underkategori'}, 'external_class': '1.1.1'  }\n",
    "stage_category_set = {'StageCategory': stage_category_properties}\n",
    "stage_category_node = {'Node': stage_category_set}\n",
    "\n",
    "json_array_stages_categories.append(stage_category_node)"
   ]
  },
  {
   "cell_type": "code",
   "execution_count": 11,
   "id": "e8ae1243",
   "metadata": {},
   "outputs": [
    {
     "data": {
      "text/plain": [
       "[{'Node': {'StageCategory': {'id': '04be0ff0-908c-4a9e-8ddf-5760548941bf',\n",
       "    'name': {'Danish': 'Test underkategori', 'English': 'Test underkategori'},\n",
       "    'external_class': '1.1.1'}}}]"
      ]
     },
     "execution_count": 11,
     "metadata": {},
     "output_type": "execute_result"
    }
   ],
   "source": [
    "json_array_stages_categories"
   ]
  },
  {
   "cell_type": "code",
   "execution_count": 12,
   "id": "ff778865",
   "metadata": {},
   "outputs": [
    {
     "name": "stdout",
     "output_type": "stream",
     "text": [
      "0\n",
      "1\n"
     ]
    }
   ],
   "source": [
    "i=0\n",
    "startid = '4cf6cca4-0814-42d3-b26d-c0dd3792bccd'\n",
    "for id in stageid:\n",
    "\n",
    "    print (i)\n",
    "    \n",
    "\n",
    "    \n",
    "    \n",
    "\n",
    "    stage_category_edge_set = [{'Generic': str(uuid.uuid4())}, startid, id]\n",
    "    stage_category_edge_node = {'Edge': stage_category_edge_set}\n",
    "    json_array_stages_categories.append(stage_category_edge_node)\n",
    "        \n",
    "    i += 1"
   ]
  },
  {
   "cell_type": "code",
   "execution_count": 13,
   "id": "4e3fe7c7",
   "metadata": {
    "scrolled": true
   },
   "outputs": [
    {
     "data": {
      "text/plain": [
       "[{'Node': {'StageCategory': {'id': '04be0ff0-908c-4a9e-8ddf-5760548941bf',\n",
       "    'name': {'Danish': 'Test underkategori', 'English': 'Test underkategori'},\n",
       "    'external_class': '1.1.1'}}},\n",
       " {'Edge': [{'Generic': '4dfae3cb-cf6f-425d-bb7f-d85b8d0b0ff2'},\n",
       "   '4cf6cca4-0814-42d3-b26d-c0dd3792bccd',\n",
       "   '9a539756-8e02-4d73-9bc6-c41788863912']},\n",
       " {'Edge': [{'Generic': '1c4ffa40-6218-4963-9857-e055e20ea120'},\n",
       "   '4cf6cca4-0814-42d3-b26d-c0dd3792bccd',\n",
       "   'e1991916-adb0-465a-89db-ab6ba7dad36a']}]"
      ]
     },
     "execution_count": 13,
     "metadata": {},
     "output_type": "execute_result"
    }
   ],
   "source": [
    "json_array_stages_categories"
   ]
  },
  {
   "cell_type": "code",
   "execution_count": 14,
   "id": "c875e25a",
   "metadata": {},
   "outputs": [],
   "source": [
    "#STAGE CATEGORIES\n",
    "#CREATE EDGES ACCORDING TO STAGES"
   ]
  },
  {
   "cell_type": "code",
   "execution_count": 15,
   "id": "3c2e7969",
   "metadata": {},
   "outputs": [
    {
     "name": "stdout",
     "output_type": "stream",
     "text": [
      "Files exported successfully\n"
     ]
    }
   ],
   "source": [
    "try:\n",
    "  with open('lcabyg_json/stages.json', 'w') as outfile:\n",
    "        json.dump(json_array_stages, outfile,indent=4)\n",
    "\n",
    "  print(\"Files exported successfully\")\n",
    "except:\n",
    "  print(\"An exception occurred\")"
   ]
  },
  {
   "cell_type": "code",
   "execution_count": 16,
   "id": "cfb32b24",
   "metadata": {},
   "outputs": [
    {
     "name": "stdout",
     "output_type": "stream",
     "text": [
      "Files exported successfully\n"
     ]
    }
   ],
   "source": [
    "try:\n",
    "  with open('dk-lcabyg_json/stage_categories.json', 'w') as outfile:\n",
    "        json.dump(json_array_stages_categories, outfile,indent=4)\n",
    "\n",
    "  print(\"Files exported successfully\")\n",
    "except:\n",
    "  print(\"An exception occurred\")"
   ]
  },
  {
   "cell_type": "code",
   "execution_count": null,
   "id": "c597631a",
   "metadata": {},
   "outputs": [],
   "source": []
  },
  {
   "cell_type": "code",
   "execution_count": null,
   "id": "b992958e",
   "metadata": {},
   "outputs": [],
   "source": []
  },
  {
   "cell_type": "code",
   "execution_count": null,
   "id": "809b1b17",
   "metadata": {},
   "outputs": [],
   "source": []
  }
 ],
 "metadata": {
  "kernelspec": {
   "display_name": "Python 3",
   "language": "python",
   "name": "python3"
  },
  "language_info": {
   "codemirror_mode": {
    "name": "ipython",
    "version": 3
   },
   "file_extension": ".py",
   "mimetype": "text/x-python",
   "name": "python",
   "nbconvert_exporter": "python",
   "pygments_lexer": "ipython3",
   "version": "3.7.6"
  }
 },
 "nbformat": 4,
 "nbformat_minor": 5
}
