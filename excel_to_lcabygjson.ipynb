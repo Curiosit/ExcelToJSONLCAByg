{
 "cells": [
  {
   "cell_type": "code",
   "execution_count": 20,
   "id": "09504efa",
   "metadata": {},
   "outputs": [],
   "source": [
    "import json\n",
    "import ifcopenshell\n",
    "import ifcHelper \n",
    "import pandas as pd\n",
    "import numpy as np\n",
    "import lcabygjson as lcabygjson\n",
    "import uuid"
   ]
  },
  {
   "cell_type": "code",
   "execution_count": 21,
   "id": "66a01e2c",
   "metadata": {},
   "outputs": [],
   "source": [
    "file_name =  'exceldata.xls'"
   ]
  },
  {
   "cell_type": "code",
   "execution_count": 22,
   "id": "f0fd974b",
   "metadata": {},
   "outputs": [
    {
     "name": "stdout",
     "output_type": "stream",
     "text": [
      "Konstruktioner Excel File loaded successfully\n",
      "                   Row Labels  Sum of Area            Lot  ProductAmount Unit  \\\n",
      "0  (12)1 Sokkel under ydervæg       138.45  21. YDERVÆGGE              1   M2   \n",
      "1     (21)1 - Ydervæg, Kælder       603.01  21. YDERVÆGGE              1   M2   \n",
      "\n",
      "                                              Layers  \n",
      "0            BA - f0 - Puds 10_Bips - Polystyren 250  \n",
      "1  By Category 10_Bips - Beton Element 250_Bips -...  \n"
     ]
    }
   ],
   "source": [
    "sheet_konstruktioner =  'Konstruktioner' # sheet name or sheet number or list of sheet numbers and names\n",
    "\n",
    "try:\n",
    "  konstruktioner_df = pd.read_excel(io=file_name, sheet_name=sheet_konstruktioner)\n",
    "  print(\"Konstruktioner Excel File loaded successfully\")\n",
    "  print(konstruktioner_df.head(2))  # print first 5 rows of the dataframe\n",
    "except:\n",
    "  print(\"An exception occurred\")\n"
   ]
  },
  {
   "cell_type": "code",
   "execution_count": null,
   "id": "5ccfd270",
   "metadata": {},
   "outputs": [],
   "source": []
  },
  {
   "cell_type": "code",
   "execution_count": 23,
   "id": "42e6461c",
   "metadata": {},
   "outputs": [
    {
     "name": "stdout",
     "output_type": "stream",
     "text": [
      "Products Excel File loaded successfully\n",
      "       Row Labels     EnglishName      RevitNames     Polish name  \\\n",
      "0  Testproduct m2  Testproduct m2  Testproduct m2  Testproduct m2   \n",
      "1   Testproduct m   Testproduct m   Testproduct m   Testproduct m   \n",
      "\n",
      "         LCABYGmaterial  Amount Unit                             Productid  \\\n",
      "0  Kalksandsten (A1-A3)       1   M3  51bcec85-9105-4946-8a8a-51219bf9adfa   \n",
      "1  Kalksandsten (A1-A3)       1   M2  5dcafff0-1ec7-49e7-b425-fff6d1a0e03f   \n",
      "\n",
      "                         ProductToStage                                  A1A3  \\\n",
      "0  61a77bc8-bddb-4521-9862-e613e26a5661  e60d6a55-44e3-5ade-88f5-07e0fd29d1d0   \n",
      "1  e85a401f-2cb7-4de5-a3a2-ac222cfad9ef  e60d6a55-44e3-5ade-88f5-07e0fd29d1d0   \n",
      "\n",
      "                                     C3   C4  \\\n",
      "0  caa5e6c3-0efd-53b6-8b9b-2142880cc69f  XXX   \n",
      "1  caa5e6c3-0efd-53b6-8b9b-2142880cc69f  XXX   \n",
      "\n",
      "                                      D  \n",
      "0  9a4ebb4a-f90a-5e0b-b5b5-76b0a965c1f0  \n",
      "1  9a4ebb4a-f90a-5e0b-b5b5-76b0a965c1f0  \n"
     ]
    }
   ],
   "source": [
    "\n",
    "sheet_products =  'Products' # sheet name or sheet number or list of sheet numbers and names\n",
    "\n",
    "try:\n",
    "  products_df = pd.read_excel(io=file_name, sheet_name=sheet_products)\n",
    "  print(\"Products Excel File loaded successfully\")\n",
    "  print(products_df.head(2))  # print first 5 rows of the dataframe\n",
    "except:\n",
    "  print(\"An exception occurred\")\n"
   ]
  },
  {
   "cell_type": "code",
   "execution_count": 24,
   "id": "6a8edc7a",
   "metadata": {},
   "outputs": [
    {
     "name": "stdout",
     "output_type": "stream",
     "text": [
      "Other Excel File loaded successfully\n",
      "Empty DataFrame\n",
      "Columns: [Row Labels, Sum of Area, Lot, Unit, Layers, Assumption, Coefficient, Multiplier]\n",
      "Index: []\n"
     ]
    }
   ],
   "source": [
    "sheet_other =  'Andet' # sheet name or sheet number or list of sheet numbers and names\n",
    "\n",
    "try:\n",
    "  other_df = pd.read_excel(io=file_name, sheet_name=sheet_other)\n",
    "  print(\"Other Excel File loaded successfully\")\n",
    "  print(other_df.head(2))  # print first 5 rows of the dataframe\n",
    "except:\n",
    "  print(\"An exception occurred\")"
   ]
  },
  {
   "cell_type": "code",
   "execution_count": 25,
   "id": "89941a6e",
   "metadata": {},
   "outputs": [],
   "source": [
    "json_array_elements = []\n",
    "json_array_constructions = []\n",
    "json_array_element_category_edges = []\n",
    "json_array_constructions_extra = []"
   ]
  },
  {
   "cell_type": "code",
   "execution_count": 26,
   "id": "8d9304e2",
   "metadata": {},
   "outputs": [],
   "source": [
    "konstruktioner_df_L12 = konstruktioner_df[konstruktioner_df['Lot'] == '12. FUNDAMENTER'].reset_index()\n",
    "konstruktioner_df_L13 = konstruktioner_df[konstruktioner_df['Lot'] == '13. TERRÆNDÆK'].reset_index()\n",
    "konstruktioner_df_L21 = konstruktioner_df[konstruktioner_df['Lot'] == '21. YDERVÆGGE'].reset_index()\n",
    "konstruktioner_df_L22 = konstruktioner_df[konstruktioner_df['Lot'] == '22. INDERVÆGGE'].reset_index()\n",
    "konstruktioner_df_L23 = konstruktioner_df[konstruktioner_df['Lot'] == '23. ETAGEDÆK'].reset_index()\n",
    "konstruktioner_df_L27 = konstruktioner_df[konstruktioner_df['Lot'] == '27. TAGE'].reset_index()\n",
    "konstruktioner_df_L31 = konstruktioner_df[konstruktioner_df['Lot'] == '31. YDERVÆGGE, KOMPLETTERING'].reset_index()\n",
    "konstruktioner_df_L43 = konstruktioner_df[konstruktioner_df['Lot'] == '43. GULVE'].reset_index()\n",
    "konstruktioner_df_L45 = konstruktioner_df[konstruktioner_df['Lot'] == '45. LOFTER'].reset_index()"
   ]
  },
  {
   "cell_type": "code",
   "execution_count": null,
   "id": "28f5d1fd",
   "metadata": {},
   "outputs": [],
   "source": []
  },
  {
   "cell_type": "code",
   "execution_count": 27,
   "id": "6cf8f2e2",
   "metadata": {},
   "outputs": [],
   "source": [
    "other_df_L12 = other_df[other_df['Lot'] == '12. FUNDAMENTER'].reset_index()\n",
    "other_df_L13 = other_df[other_df['Lot'] == '13. TERRÆNDÆK'].reset_index()\n",
    "other_df_L21 = other_df[other_df['Lot'] == '21. YDERVÆGGE'].reset_index()\n",
    "other_df_L22 = other_df[other_df['Lot'] == '22. INDERVÆGGE'].reset_index()\n",
    "other_df_L23 = other_df[other_df['Lot'] == '23. ETAGEDÆK'].reset_index()\n",
    "other_df_L27 = other_df[other_df['Lot'] == '27. TAGE'].reset_index()\n",
    "other_df_L31 = other_df[other_df['Lot'] == '31. YDERVÆGGE, KOMPLETTERING'].reset_index()\n",
    "other_df_L43 = other_df[other_df['Lot'] == '43. GULVE'].reset_index()\n",
    "other_df_L45 = other_df[other_df['Lot'] == '45. LOFTER'].reset_index()"
   ]
  },
  {
   "cell_type": "code",
   "execution_count": 28,
   "id": "965fcfc5",
   "metadata": {},
   "outputs": [],
   "source": [
    "L12_conc = [konstruktioner_df_L12,other_df_L12]\n",
    "L13_conc = [konstruktioner_df_L13,other_df_L13]\n",
    "L21_conc = [konstruktioner_df_L21,other_df_L21]\n",
    "L22_conc = [konstruktioner_df_L22,other_df_L22]\n",
    "L23_conc = [konstruktioner_df_L23,other_df_L23]\n",
    "L27_conc = [konstruktioner_df_L27,other_df_L27]\n",
    "L31_conc = [konstruktioner_df_L31,other_df_L31]\n",
    "L43_conc = [konstruktioner_df_L43,other_df_L43]\n",
    "L45_conc = [konstruktioner_df_L45,other_df_L45]"
   ]
  },
  {
   "cell_type": "code",
   "execution_count": 29,
   "id": "7b33b4c3",
   "metadata": {},
   "outputs": [],
   "source": [
    "L12 = pd.concat(L12_conc).reset_index()\n",
    "L13 = pd.concat(L13_conc).reset_index()\n",
    "L21 = pd.concat(L21_conc).reset_index()\n",
    "L22 = pd.concat(L22_conc).reset_index()\n",
    "L23 = pd.concat(L23_conc).reset_index()\n",
    "L27 = pd.concat(L27_conc).reset_index()\n",
    "L31 = pd.concat(L31_conc).reset_index()\n",
    "L43 = pd.concat(L43_conc).reset_index()\n",
    "L45 = pd.concat(L45_conc).reset_index()\n"
   ]
  },
  {
   "cell_type": "markdown",
   "id": "7d904c91",
   "metadata": {},
   "source": []
  },
  {
   "cell_type": "code",
   "execution_count": 30,
   "id": "8fbfbc99",
   "metadata": {},
   "outputs": [
    {
     "data": {
      "text/html": [
       "<div>\n",
       "<style scoped>\n",
       "    .dataframe tbody tr th:only-of-type {\n",
       "        vertical-align: middle;\n",
       "    }\n",
       "\n",
       "    .dataframe tbody tr th {\n",
       "        vertical-align: top;\n",
       "    }\n",
       "\n",
       "    .dataframe thead th {\n",
       "        text-align: right;\n",
       "    }\n",
       "</style>\n",
       "<table border=\"1\" class=\"dataframe\">\n",
       "  <thead>\n",
       "    <tr style=\"text-align: right;\">\n",
       "      <th></th>\n",
       "      <th>level_0</th>\n",
       "      <th>index</th>\n",
       "      <th>Row Labels</th>\n",
       "      <th>Sum of Area</th>\n",
       "      <th>Lot</th>\n",
       "      <th>ProductAmount</th>\n",
       "      <th>Unit</th>\n",
       "      <th>Layers</th>\n",
       "      <th>Assumption</th>\n",
       "      <th>Coefficient</th>\n",
       "      <th>Multiplier</th>\n",
       "    </tr>\n",
       "  </thead>\n",
       "  <tbody>\n",
       "  </tbody>\n",
       "</table>\n",
       "</div>"
      ],
      "text/plain": [
       "Empty DataFrame\n",
       "Columns: [level_0, index, Row Labels, Sum of Area, Lot, ProductAmount, Unit, Layers, Assumption, Coefficient, Multiplier]\n",
       "Index: []"
      ]
     },
     "execution_count": 30,
     "metadata": {},
     "output_type": "execute_result"
    }
   ],
   "source": [
    "L22"
   ]
  },
  {
   "cell_type": "code",
   "execution_count": 31,
   "id": "de20b957",
   "metadata": {},
   "outputs": [],
   "source": [
    "lcabyg_elements = lcabygjson.create_lcabyg_elements()"
   ]
  },
  {
   "cell_type": "code",
   "execution_count": 32,
   "id": "553e1da9",
   "metadata": {},
   "outputs": [
    {
     "data": {
      "text/plain": [
       "([], [], [], [])"
      ]
     },
     "execution_count": 32,
     "metadata": {},
     "output_type": "execute_result"
    }
   ],
   "source": [
    "lcabyg_elements"
   ]
  },
  {
   "cell_type": "code",
   "execution_count": 33,
   "id": "56545e68",
   "metadata": {},
   "outputs": [
    {
     "name": "stdout",
     "output_type": "stream",
     "text": [
      "Added element:\n",
      "12. FUNDAMENTER\n"
     ]
    }
   ],
   "source": [
    "# L12 \n",
    "lcabyg_elements = lcabygjson.append_lcabyg_element(lcabyg_elements,L12['Sum of Area'],L12['Row Labels'], '12. FUNDAMENTER',  L12['Unit'], L12['Layers'], products_df, '02c3e303-a443-4f02-9927-e43519227ade')"
   ]
  },
  {
   "cell_type": "code",
   "execution_count": 34,
   "id": "62886a2c",
   "metadata": {},
   "outputs": [
    {
     "name": "stdout",
     "output_type": "stream",
     "text": [
      "Added element:\n",
      "13. TERRÆNDÆK\n"
     ]
    }
   ],
   "source": [
    "# L13\n",
    "lcabyg_elements = lcabygjson.append_lcabyg_element(lcabyg_elements,L13['Sum of Area'],L13['Row Labels'], '13. TERRÆNDÆK',  L13['Unit'], L13['Layers'], products_df, str(uuid.uuid4()))"
   ]
  },
  {
   "cell_type": "raw",
   "id": "4df4b28c",
   "metadata": {},
   "source": [
    "12. FUNDAMENTER\n",
    "\n",
    "13. TERRÆNDÆK\n",
    "\n",
    "21. YDERVÆGGE\n",
    "\n",
    "22. INDERVÆGGE\n",
    "\n",
    "23. ETAGEDÆK\n",
    "\n",
    "27. TAGE\n",
    "\n",
    "31. YDERVÆGGE, KOMPLETTERING\n",
    "\n",
    "43. GULVE\n",
    "\n",
    "45. LOFTER"
   ]
  },
  {
   "cell_type": "code",
   "execution_count": 35,
   "id": "d8efedff",
   "metadata": {},
   "outputs": [
    {
     "name": "stdout",
     "output_type": "stream",
     "text": [
      "Added element:\n",
      "21. YDERVÆGGE\n",
      "Added construction\n",
      "(12)1 Sokkel under ydervæg\n",
      "138.45\n",
      "Layers:\n",
      "['BA - f0 - Puds 10', 'Bips - Polystyren 250']\n",
      "BA - f0 - Puds 10\n",
      "Products:\n",
      "BA - f0 - Puds\n",
      "Amount from layer:\n",
      "10\n",
      "M3\n",
      "Previous layer:\n",
      "\n",
      "Productid:\n",
      "28b79b9f-ee4a-4c8e-843c-8f666713aca1\n",
      "LCABYG Name:\n",
      "Puds\n",
      "Final amount:\n",
      "0.1\n",
      "Bips - Polystyren 250\n",
      "Products:\n",
      "Bips - Polystyren\n",
      "Amount from layer:\n",
      "250\n"
     ]
    },
    {
     "ename": "IndexError",
     "evalue": "index 0 is out of bounds for axis 0 with size 0",
     "output_type": "error",
     "traceback": [
      "\u001b[1;31m---------------------------------------------------------------------------\u001b[0m",
      "\u001b[1;31mIndexError\u001b[0m                                Traceback (most recent call last)",
      "\u001b[1;32m<ipython-input-35-0dcde353b6ba>\u001b[0m in \u001b[0;36m<module>\u001b[1;34m\u001b[0m\n\u001b[0;32m      1\u001b[0m \u001b[1;31m# L21\u001b[0m\u001b[1;33m\u001b[0m\u001b[1;33m\u001b[0m\u001b[1;33m\u001b[0m\u001b[0m\n\u001b[1;32m----> 2\u001b[1;33m \u001b[0mlcabyg_elements\u001b[0m \u001b[1;33m=\u001b[0m \u001b[0mlcabygjson\u001b[0m\u001b[1;33m.\u001b[0m\u001b[0mappend_lcabyg_element\u001b[0m\u001b[1;33m(\u001b[0m\u001b[0mlcabyg_elements\u001b[0m\u001b[1;33m,\u001b[0m\u001b[0mL21\u001b[0m\u001b[1;33m[\u001b[0m\u001b[1;34m'Sum of Area'\u001b[0m\u001b[1;33m]\u001b[0m\u001b[1;33m,\u001b[0m\u001b[0mL21\u001b[0m\u001b[1;33m[\u001b[0m\u001b[1;34m'Row Labels'\u001b[0m\u001b[1;33m]\u001b[0m\u001b[1;33m,\u001b[0m \u001b[1;34m'21. YDERVÆGGE'\u001b[0m\u001b[1;33m,\u001b[0m  \u001b[0mL21\u001b[0m\u001b[1;33m[\u001b[0m\u001b[1;34m'Unit'\u001b[0m\u001b[1;33m]\u001b[0m\u001b[1;33m,\u001b[0m \u001b[0mL21\u001b[0m\u001b[1;33m[\u001b[0m\u001b[1;34m'Layers'\u001b[0m\u001b[1;33m]\u001b[0m\u001b[1;33m,\u001b[0m \u001b[0mproducts_df\u001b[0m\u001b[1;33m,\u001b[0m \u001b[0mstr\u001b[0m\u001b[1;33m(\u001b[0m\u001b[0muuid\u001b[0m\u001b[1;33m.\u001b[0m\u001b[0muuid4\u001b[0m\u001b[1;33m(\u001b[0m\u001b[1;33m)\u001b[0m\u001b[1;33m)\u001b[0m\u001b[1;33m)\u001b[0m\u001b[1;33m\u001b[0m\u001b[1;33m\u001b[0m\u001b[0m\n\u001b[0m",
      "\u001b[1;32m~\\Documents\\GitHub\\Excel_to_JSON_LCAByg\\lcabygjson.py\u001b[0m in \u001b[0;36mappend_lcabyg_element\u001b[1;34m(lcabyg_elements, construction_amount, construction_name, element_name, unit, layers, products_df, element_id, lifespan, product_id)\u001b[0m\n\u001b[0;32m    150\u001b[0m             \u001b[0mrow\u001b[0m \u001b[1;33m=\u001b[0m \u001b[0mproducts_df\u001b[0m\u001b[1;33m[\u001b[0m\u001b[0mproducts_df\u001b[0m\u001b[1;33m[\u001b[0m\u001b[1;34m'RevitNames'\u001b[0m\u001b[1;33m]\u001b[0m\u001b[1;33m.\u001b[0m\u001b[0mstr\u001b[0m\u001b[1;33m.\u001b[0m\u001b[0mcontains\u001b[0m\u001b[1;33m(\u001b[0m\u001b[0mproducts\u001b[0m\u001b[1;33m[\u001b[0m\u001b[1;36m0\u001b[0m\u001b[1;33m]\u001b[0m\u001b[1;33m)\u001b[0m\u001b[1;33m]\u001b[0m\u001b[1;33m\u001b[0m\u001b[1;33m\u001b[0m\u001b[0m\n\u001b[0;32m    151\u001b[0m             \u001b[0mrow\u001b[0m\u001b[1;33m[\u001b[0m\u001b[1;34m'Unit'\u001b[0m\u001b[1;33m]\u001b[0m\u001b[1;33m\u001b[0m\u001b[1;33m\u001b[0m\u001b[0m\n\u001b[1;32m--> 152\u001b[1;33m             \u001b[1;32mif\u001b[0m \u001b[0mrow\u001b[0m\u001b[1;33m[\u001b[0m\u001b[1;34m'Unit'\u001b[0m\u001b[1;33m]\u001b[0m\u001b[1;33m.\u001b[0m\u001b[0mvalues\u001b[0m\u001b[1;33m[\u001b[0m\u001b[1;36m0\u001b[0m\u001b[1;33m]\u001b[0m \u001b[1;33m==\u001b[0m \u001b[1;34m'M3'\u001b[0m\u001b[1;33m:\u001b[0m\u001b[1;33m\u001b[0m\u001b[1;33m\u001b[0m\u001b[0m\n\u001b[0m\u001b[0;32m    153\u001b[0m                 \u001b[0mprint\u001b[0m\u001b[1;33m(\u001b[0m\u001b[1;34m'M3'\u001b[0m\u001b[1;33m)\u001b[0m\u001b[1;33m\u001b[0m\u001b[1;33m\u001b[0m\u001b[0m\n\u001b[0;32m    154\u001b[0m                 \u001b[0mthickness\u001b[0m \u001b[1;33m=\u001b[0m \u001b[1;33m(\u001b[0m\u001b[0mfloat\u001b[0m\u001b[1;33m(\u001b[0m\u001b[0mproducts\u001b[0m\u001b[1;33m[\u001b[0m\u001b[1;36m1\u001b[0m\u001b[1;33m]\u001b[0m\u001b[1;33m.\u001b[0m\u001b[0mreplace\u001b[0m\u001b[1;33m(\u001b[0m\u001b[1;34m','\u001b[0m\u001b[1;33m,\u001b[0m \u001b[1;34m'.'\u001b[0m\u001b[1;33m)\u001b[0m\u001b[1;33m)\u001b[0m\u001b[1;33m/\u001b[0m\u001b[1;36m100\u001b[0m\u001b[1;33m)\u001b[0m\u001b[1;33m*\u001b[0m\u001b[0mrow\u001b[0m\u001b[1;33m[\u001b[0m\u001b[1;34m'Amount'\u001b[0m\u001b[1;33m]\u001b[0m\u001b[1;33m.\u001b[0m\u001b[0mvalues\u001b[0m\u001b[1;33m[\u001b[0m\u001b[1;36m0\u001b[0m\u001b[1;33m]\u001b[0m\u001b[1;33m\u001b[0m\u001b[1;33m\u001b[0m\u001b[0m\n",
      "\u001b[1;31mIndexError\u001b[0m: index 0 is out of bounds for axis 0 with size 0"
     ]
    }
   ],
   "source": [
    "# L21\n",
    "lcabyg_elements = lcabygjson.append_lcabyg_element(lcabyg_elements,L21['Sum of Area'],L21['Row Labels'], '21. YDERVÆGGE',  L21['Unit'], L21['Layers'], products_df, str(uuid.uuid4()))"
   ]
  },
  {
   "cell_type": "code",
   "execution_count": 36,
   "id": "212b007b",
   "metadata": {},
   "outputs": [
    {
     "name": "stdout",
     "output_type": "stream",
     "text": [
      "Added element:\n",
      "22. INDERVÆGGE\n"
     ]
    }
   ],
   "source": [
    "# L22\n",
    "lcabyg_elements = lcabygjson.append_lcabyg_element(lcabyg_elements,L22['Sum of Area'],L22['Row Labels'], '22. INDERVÆGGE',  L22['Unit'], L22['Layers'], products_df, str(uuid.uuid4()))"
   ]
  },
  {
   "cell_type": "code",
   "execution_count": 37,
   "id": "f06ac347",
   "metadata": {},
   "outputs": [
    {
     "name": "stdout",
     "output_type": "stream",
     "text": [
      "Added element:\n",
      "23. ETAGEDÆK\n"
     ]
    }
   ],
   "source": [
    "# L23\n",
    "lcabyg_elements = lcabygjson.append_lcabyg_element(lcabyg_elements,L23['Sum of Area'],L23['Row Labels'], '23. ETAGEDÆK',  L23['Unit'], L23['Layers'], products_df, str(uuid.uuid4()))"
   ]
  },
  {
   "cell_type": "code",
   "execution_count": 38,
   "id": "499b3da6",
   "metadata": {},
   "outputs": [
    {
     "name": "stdout",
     "output_type": "stream",
     "text": [
      "Added element:\n",
      "27. TAGE\n"
     ]
    }
   ],
   "source": [
    "# L27\n",
    "lcabyg_elements = lcabygjson.append_lcabyg_element(lcabyg_elements,L27['Sum of Area'],L27['Row Labels'], '27. TAGE',  L27['Unit'], L27['Layers'], products_df, str(uuid.uuid4()))"
   ]
  },
  {
   "cell_type": "code",
   "execution_count": 39,
   "id": "f8e76c7a",
   "metadata": {},
   "outputs": [
    {
     "name": "stdout",
     "output_type": "stream",
     "text": [
      "Added element:\n",
      "31. YDERVÆGGE, KOMPLETTERING\n"
     ]
    }
   ],
   "source": [
    "# L31\n",
    "lcabyg_elements = lcabygjson.append_lcabyg_element(lcabyg_elements,L31['Sum of Area'],L31['Row Labels'], '31. YDERVÆGGE, KOMPLETTERING',  L31['Unit'], L31['Layers'], products_df, str(uuid.uuid4()))"
   ]
  },
  {
   "cell_type": "code",
   "execution_count": 40,
   "id": "3d7e5629",
   "metadata": {},
   "outputs": [
    {
     "name": "stdout",
     "output_type": "stream",
     "text": [
      "Added element:\n",
      "43. GULVE\n"
     ]
    }
   ],
   "source": [
    "# L43\n",
    "lcabyg_elements = lcabygjson.append_lcabyg_element(lcabyg_elements,L43['Sum of Area'],L43['Row Labels'], '43. GULVE',  L43['Unit'], L43['Layers'], products_df, str(uuid.uuid4()))"
   ]
  },
  {
   "cell_type": "code",
   "execution_count": 41,
   "id": "8592d921",
   "metadata": {},
   "outputs": [
    {
     "name": "stdout",
     "output_type": "stream",
     "text": [
      "Added element:\n",
      "45. LOFTER\n"
     ]
    }
   ],
   "source": [
    "# L45\n",
    "lcabyg_elements = lcabygjson.append_lcabyg_element(lcabyg_elements,L45['Sum of Area'],L45['Row Labels'], '45. LOFTER',  L45['Unit'], L45['Layers'], products_df, str(uuid.uuid4()))"
   ]
  },
  {
   "cell_type": "code",
   "execution_count": 42,
   "id": "89c5bb9f",
   "metadata": {
    "scrolled": true
   },
   "outputs": [
    {
     "data": {
      "text/plain": [
       "([{'Node': {'Element': {'id': '02c3e303-a443-4f02-9927-e43519227ade',\n",
       "     'name': {'Danish': '12. FUNDAMENTER', 'English': '', 'German': ''},\n",
       "     'source': 'User',\n",
       "     'comment': 'Created by Excel_to_JSON_LCAByg. https://github.com/Curiosit/Excel_to_JSON_LCAByg',\n",
       "     'enabled': True,\n",
       "     'active': True}}},\n",
       "  {'Node': {'Element': {'id': '225af677-5d5b-4b01-9b4a-a9e292f6a1be',\n",
       "     'name': {'Danish': '13. TERRÆNDÆK', 'English': '', 'German': ''},\n",
       "     'source': 'User',\n",
       "     'comment': 'Created by Excel_to_JSON_LCAByg. https://github.com/Curiosit/Excel_to_JSON_LCAByg',\n",
       "     'enabled': True,\n",
       "     'active': True}}},\n",
       "  {'Node': {'Element': {'id': '5563200d-5406-4dfd-b829-1fbb19743c86',\n",
       "     'name': {'Danish': '21. YDERVÆGGE', 'English': '', 'German': ''},\n",
       "     'source': 'User',\n",
       "     'comment': 'Created by Excel_to_JSON_LCAByg. https://github.com/Curiosit/Excel_to_JSON_LCAByg',\n",
       "     'enabled': True,\n",
       "     'active': True}}},\n",
       "  {'Edge': [{'ElementToConstruction': {'id': 'b60e9478-dfcd-4d46-bc45-a5459221bb60',\n",
       "      'amount': 138.45,\n",
       "      'enabled': True}},\n",
       "    '5563200d-5406-4dfd-b829-1fbb19743c86',\n",
       "    '3aa2fed2-e0cd-46de-bbe8-ab13091843d1']},\n",
       "  {'Node': {'Element': {'id': '43de1fdc-e302-4dbc-894e-5425538ecda5',\n",
       "     'name': {'Danish': '22. INDERVÆGGE', 'English': '', 'German': ''},\n",
       "     'source': 'User',\n",
       "     'comment': 'Created by Excel_to_JSON_LCAByg. https://github.com/Curiosit/Excel_to_JSON_LCAByg',\n",
       "     'enabled': True,\n",
       "     'active': True}}},\n",
       "  {'Node': {'Element': {'id': '7660389a-4f7c-4858-a591-4aa6367d538d',\n",
       "     'name': {'Danish': '23. ETAGEDÆK', 'English': '', 'German': ''},\n",
       "     'source': 'User',\n",
       "     'comment': 'Created by Excel_to_JSON_LCAByg. https://github.com/Curiosit/Excel_to_JSON_LCAByg',\n",
       "     'enabled': True,\n",
       "     'active': True}}},\n",
       "  {'Node': {'Element': {'id': '5ffe11ce-88dd-4cf7-90d9-8a25609121ef',\n",
       "     'name': {'Danish': '27. TAGE', 'English': '', 'German': ''},\n",
       "     'source': 'User',\n",
       "     'comment': 'Created by Excel_to_JSON_LCAByg. https://github.com/Curiosit/Excel_to_JSON_LCAByg',\n",
       "     'enabled': True,\n",
       "     'active': True}}},\n",
       "  {'Node': {'Element': {'id': 'a23a85c6-c392-40fa-8347-fca3aa8a3cca',\n",
       "     'name': {'Danish': '31. YDERVÆGGE, KOMPLETTERING',\n",
       "      'English': '',\n",
       "      'German': ''},\n",
       "     'source': 'User',\n",
       "     'comment': 'Created by Excel_to_JSON_LCAByg. https://github.com/Curiosit/Excel_to_JSON_LCAByg',\n",
       "     'enabled': True,\n",
       "     'active': True}}},\n",
       "  {'Node': {'Element': {'id': '8590e5a0-ae6c-43dd-ad76-e79c57af8f72',\n",
       "     'name': {'Danish': '43. GULVE', 'English': '', 'German': ''},\n",
       "     'source': 'User',\n",
       "     'comment': 'Created by Excel_to_JSON_LCAByg. https://github.com/Curiosit/Excel_to_JSON_LCAByg',\n",
       "     'enabled': True,\n",
       "     'active': True}}},\n",
       "  {'Node': {'Element': {'id': 'ce257533-7e83-4fd7-9306-f34b88518437',\n",
       "     'name': {'Danish': '45. LOFTER', 'English': '', 'German': ''},\n",
       "     'source': 'User',\n",
       "     'comment': 'Created by Excel_to_JSON_LCAByg. https://github.com/Curiosit/Excel_to_JSON_LCAByg',\n",
       "     'enabled': True,\n",
       "     'active': True}}}],\n",
       " [{'Node': {'Construction': {'id': '3aa2fed2-e0cd-46de-bbe8-ab13091843d1',\n",
       "     'name': {'Danish': '(12)1 Sokkel under ydervæg',\n",
       "      'English': 'Test construction'},\n",
       "     'unit': 'M2',\n",
       "     'source': 'User',\n",
       "     'comment': 'Created by Excel_to_JSON_LCAByg. https://github.com/Curiosit/Excel_to_JSON_LCAByg',\n",
       "     'layer': 1,\n",
       "     'locked': True}}},\n",
       "  {'Edge': [{'ConstructionToProduct': {'id': 'a67e38c5-54bc-493c-813b-4a8909937d23',\n",
       "      'amount': 0.1,\n",
       "      'unit': 'M3',\n",
       "      'lifespan': 50,\n",
       "      'demolition': False,\n",
       "      'enabled': True,\n",
       "      'delayed_start': 0}},\n",
       "    '3aa2fed2-e0cd-46de-bbe8-ab13091843d1',\n",
       "    '28b79b9f-ee4a-4c8e-843c-8f666713aca1']}],\n",
       " [{'Edge': [{'CategoryToElement': {'id': 'f941a4d8-6cfc-4478-bcea-3622e09e99d8',\n",
       "      'enabled': True}},\n",
       "    '069983d0-d08b-405b-b816-d28ca9648956',\n",
       "    '02c3e303-a443-4f02-9927-e43519227ade']},\n",
       "  {'Edge': [{'CategoryToElement': {'id': '91dad385-5c26-4ce7-afbc-dfca9fb0405d',\n",
       "      'enabled': True}},\n",
       "    '069983d0-d08b-405b-b816-d28ca9648956',\n",
       "    '225af677-5d5b-4b01-9b4a-a9e292f6a1be']},\n",
       "  {'Edge': [{'CategoryToElement': {'id': '3d94eb9b-a3e7-42b3-b723-40fcc9e3fc57',\n",
       "      'enabled': True}},\n",
       "    '069983d0-d08b-405b-b816-d28ca9648956',\n",
       "    '43de1fdc-e302-4dbc-894e-5425538ecda5']},\n",
       "  {'Edge': [{'CategoryToElement': {'id': 'ad9ac3d6-93c5-4f3d-a7b3-60b39cf044e1',\n",
       "      'enabled': True}},\n",
       "    '069983d0-d08b-405b-b816-d28ca9648956',\n",
       "    '7660389a-4f7c-4858-a591-4aa6367d538d']},\n",
       "  {'Edge': [{'CategoryToElement': {'id': '0ba0fa0c-f7f7-48f1-a520-1d9318e88cd5',\n",
       "      'enabled': True}},\n",
       "    '069983d0-d08b-405b-b816-d28ca9648956',\n",
       "    '5ffe11ce-88dd-4cf7-90d9-8a25609121ef']},\n",
       "  {'Edge': [{'CategoryToElement': {'id': '79211285-66bd-448f-809c-da70bbda06d7',\n",
       "      'enabled': True}},\n",
       "    '069983d0-d08b-405b-b816-d28ca9648956',\n",
       "    'a23a85c6-c392-40fa-8347-fca3aa8a3cca']},\n",
       "  {'Edge': [{'CategoryToElement': {'id': '9bda4be4-a726-4f5f-95a9-e066278bdaaf',\n",
       "      'enabled': True}},\n",
       "    '069983d0-d08b-405b-b816-d28ca9648956',\n",
       "    '8590e5a0-ae6c-43dd-ad76-e79c57af8f72']},\n",
       "  {'Edge': [{'CategoryToElement': {'id': 'c09e8ce3-4f5f-4675-868d-a33b641dbfbc',\n",
       "      'enabled': True}},\n",
       "    '069983d0-d08b-405b-b816-d28ca9648956',\n",
       "    'ce257533-7e83-4fd7-9306-f34b88518437']}],\n",
       " [])"
      ]
     },
     "execution_count": 42,
     "metadata": {},
     "output_type": "execute_result"
    }
   ],
   "source": [
    "lcabyg_elements"
   ]
  },
  {
   "cell_type": "code",
   "execution_count": 43,
   "id": "c875e25a",
   "metadata": {},
   "outputs": [],
   "source": [
    "json_array_elements = lcabygjson.add_things_json_list(json_array_elements, lcabyg_elements[0])\n",
    "json_array_constructions = lcabygjson.add_things_json_list(json_array_constructions, lcabyg_elements[1])\n",
    "json_array_element_category_edges = lcabygjson.add_things_json_list(json_array_element_category_edges, lcabyg_elements[2])\n",
    "json_array_constructions_extra = lcabygjson.add_things_json_list(json_array_constructions_extra, lcabyg_elements[3])"
   ]
  },
  {
   "cell_type": "code",
   "execution_count": 44,
   "id": "a462c403",
   "metadata": {},
   "outputs": [
    {
     "data": {
      "text/plain": [
       "[{'Node': {'Construction': {'id': '3aa2fed2-e0cd-46de-bbe8-ab13091843d1',\n",
       "    'name': {'Danish': '(12)1 Sokkel under ydervæg',\n",
       "     'English': 'Test construction'},\n",
       "    'unit': 'M2',\n",
       "    'source': 'User',\n",
       "    'comment': 'Created by Excel_to_JSON_LCAByg. https://github.com/Curiosit/Excel_to_JSON_LCAByg',\n",
       "    'layer': 1,\n",
       "    'locked': True}}},\n",
       " {'Edge': [{'ConstructionToProduct': {'id': 'a67e38c5-54bc-493c-813b-4a8909937d23',\n",
       "     'amount': 0.1,\n",
       "     'unit': 'M3',\n",
       "     'lifespan': 50,\n",
       "     'demolition': False,\n",
       "     'enabled': True,\n",
       "     'delayed_start': 0}},\n",
       "   '3aa2fed2-e0cd-46de-bbe8-ab13091843d1',\n",
       "   '28b79b9f-ee4a-4c8e-843c-8f666713aca1']}]"
      ]
     },
     "execution_count": 44,
     "metadata": {},
     "output_type": "execute_result"
    }
   ],
   "source": [
    "json_array_constructions"
   ]
  },
  {
   "cell_type": "code",
   "execution_count": 46,
   "id": "3c2e7969",
   "metadata": {},
   "outputs": [
    {
     "name": "stdout",
     "output_type": "stream",
     "text": [
      "Files exported successfully\n"
     ]
    }
   ],
   "source": [
    "try:\n",
    "  with open('dk-lcabyg_json/elements.json', 'w') as outfile:\n",
    "        json.dump(json_array_elements, outfile,indent=4)\n",
    "  with open('dk-lcabyg_json/constructions.json', 'w') as outfile:\n",
    "        json.dump(json_array_constructions, outfile,indent=4)\n",
    "  with open('dk-lcabyg_json/element_category_edges.json', 'w') as outfile:\n",
    "        json.dump(json_array_element_category_edges, outfile,indent=4)\n",
    "  with open('dk-lcabyg_json/constructions_extra.json', 'w') as outfile:\n",
    "        json.dump(json_array_constructions_extra, outfile,indent=4)\n",
    "  print(\"Files exported successfully\")\n",
    "except:\n",
    "  print(\"An exception occurred\")"
   ]
  },
  {
   "cell_type": "code",
   "execution_count": null,
   "id": "4be15f3c",
   "metadata": {},
   "outputs": [],
   "source": [
    "\n",
    "\n"
   ]
  },
  {
   "cell_type": "code",
   "execution_count": null,
   "id": "745716bb",
   "metadata": {},
   "outputs": [],
   "source": []
  },
  {
   "cell_type": "code",
   "execution_count": null,
   "id": "8f03ee3d",
   "metadata": {},
   "outputs": [],
   "source": []
  }
 ],
 "metadata": {
  "kernelspec": {
   "display_name": "Python 3",
   "language": "python",
   "name": "python3"
  },
  "language_info": {
   "codemirror_mode": {
    "name": "ipython",
    "version": 3
   },
   "file_extension": ".py",
   "mimetype": "text/x-python",
   "name": "python",
   "nbconvert_exporter": "python",
   "pygments_lexer": "ipython3",
   "version": "3.7.6"
  }
 },
 "nbformat": 4,
 "nbformat_minor": 5
}
