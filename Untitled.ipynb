{
 "cells": [
  {
   "cell_type": "code",
   "execution_count": 3,
   "id": "e463abd3",
   "metadata": {},
   "outputs": [],
   "source": [
    "import base64\n",
    "import sys\n",
    "from uuid import UUID\n",
    "import urllib.parse\n",
    "from typing import Optional, Dict, Tuple, Any\n",
    "import requests"
   ]
  },
  {
   "cell_type": "code",
   "execution_count": 4,
   "id": "c9682e21",
   "metadata": {},
   "outputs": [],
   "source": [
    "import lcabygapi"
   ]
  },
  {
   "cell_type": "code",
   "execution_count": 5,
   "id": "2e185e9e",
   "metadata": {},
   "outputs": [],
   "source": [
    "username = \"pub_test\"\n",
    "password = \"b2251884-a806-455c-bd31-f3cbee726686\"\n",
    "url = \"http://api1.lcabyg.dk\""
   ]
  },
  {
   "cell_type": "code",
   "execution_count": 7,
   "id": "5c3b9623",
   "metadata": {},
   "outputs": [
    {
     "data": {
      "text/plain": [
       "'pong'"
      ]
     },
     "execution_count": 7,
     "metadata": {},
     "output_type": "execute_result"
    }
   ],
   "source": [
    "lcabygapi.ping(url)"
   ]
  },
  {
   "cell_type": "code",
   "execution_count": 8,
   "id": "f145aaea",
   "metadata": {},
   "outputs": [
    {
     "data": {
      "text/plain": [
       "'ab83abd4-1215-4f0a-98c3-d818c606f4e9'"
      ]
     },
     "execution_count": 8,
     "metadata": {},
     "output_type": "execute_result"
    }
   ],
   "source": [
    "lcabygapi.login_via_query(url, username, password) "
   ]
  },
  {
   "cell_type": "code",
   "execution_count": null,
   "id": "2979b51c",
   "metadata": {},
   "outputs": [],
   "source": []
  }
 ],
 "metadata": {
  "kernelspec": {
   "display_name": "Python 3",
   "language": "python",
   "name": "python3"
  },
  "language_info": {
   "codemirror_mode": {
    "name": "ipython",
    "version": 3
   },
   "file_extension": ".py",
   "mimetype": "text/x-python",
   "name": "python",
   "nbconvert_exporter": "python",
   "pygments_lexer": "ipython3",
   "version": "3.7.6"
  }
 },
 "nbformat": 4,
 "nbformat_minor": 5
}
