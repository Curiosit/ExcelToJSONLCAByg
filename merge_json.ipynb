{
 "cells": [
  {
   "cell_type": "code",
   "execution_count": 1,
   "id": "7c347e2b",
   "metadata": {},
   "outputs": [],
   "source": [
    "import json, glob\n"
   ]
  },
  {
   "cell_type": "code",
   "execution_count": 2,
   "id": "82250f15",
   "metadata": {},
   "outputs": [],
   "source": [
    "path_to_json =  \"dk-lcabyg_json\""
   ]
  },
  {
   "cell_type": "code",
   "execution_count": 3,
   "id": "bf7462a8",
   "metadata": {},
   "outputs": [],
   "source": [
    "path = path_to_json + \"/*json\""
   ]
  },
  {
   "cell_type": "code",
   "execution_count": 4,
   "id": "acef8bd3",
   "metadata": {},
   "outputs": [
    {
     "data": {
      "text/plain": [
       "'dk-lcabyg_json/*json'"
      ]
     },
     "execution_count": 4,
     "metadata": {},
     "output_type": "execute_result"
    }
   ],
   "source": [
    "path"
   ]
  },
  {
   "cell_type": "code",
   "execution_count": 5,
   "id": "3d439368",
   "metadata": {},
   "outputs": [],
   "source": [
    "files = glob.glob(path)"
   ]
  },
  {
   "cell_type": "code",
   "execution_count": 6,
   "id": "b152d12f",
   "metadata": {},
   "outputs": [],
   "source": [
    "\n",
    "\n",
    "def merge_JsonFiles(filename):\n",
    "    result = list()\n",
    "    for f1 in filename:\n",
    "        with open(f1, 'r') as infile:\n",
    "            result.extend(json.load(infile))\n",
    "\n",
    "    with open('merged_json.json', 'w') as output_file:\n",
    "        json.dump(result, output_file)\n",
    "\n"
   ]
  },
  {
   "cell_type": "code",
   "execution_count": 7,
   "id": "c88e4ce3",
   "metadata": {},
   "outputs": [],
   "source": [
    "merge_JsonFiles(files)"
   ]
  },
  {
   "cell_type": "code",
   "execution_count": null,
   "id": "c4afa9bd",
   "metadata": {},
   "outputs": [],
   "source": []
  }
 ],
 "metadata": {
  "kernelspec": {
   "display_name": "Python 3",
   "language": "python",
   "name": "python3"
  },
  "language_info": {
   "codemirror_mode": {
    "name": "ipython",
    "version": 3
   },
   "file_extension": ".py",
   "mimetype": "text/x-python",
   "name": "python",
   "nbconvert_exporter": "python",
   "pygments_lexer": "ipython3",
   "version": "3.7.6"
  }
 },
 "nbformat": 4,
 "nbformat_minor": 5
}
