{
 "cells": [
  {
   "cell_type": "code",
   "execution_count": 1,
   "id": "2a495123",
   "metadata": {},
   "outputs": [],
   "source": [
    "#!/usr/bin/env python3\n",
    "import base64\n",
    "import sys\n",
    "from uuid import UUID\n",
    "import urllib.parse\n",
    "from typing import Optional, Dict, Tuple, Any\n",
    "import requests\n",
    "\n",
    "\n"
   ]
  },
  {
   "cell_type": "code",
   "execution_count": 2,
   "id": "edacf9fd",
   "metadata": {},
   "outputs": [],
   "source": [
    "GenericJsonDict = Optional[Dict[str, Any]]\n",
    "\n",
    "\n",
    "def ping(api_root: str) -> str:\n",
    "    return get(f'{api_root}/v2/ping')\n",
    "\n",
    "\n",
    "def ping_secure(api_root: str, **kwargs) -> str:\n",
    "    return get(f'{api_root}/v2/ping_secure', **kwargs)\n",
    "\n",
    "\n",
    "def login_via_query(api_root: str, username: str, password: str) -> str:\n",
    "    query = urllib.parse.urlencode(dict(username=username, password=password))\n",
    "    res = post(f'{api_root}/v2/login?{query}')\n",
    "    UUID(res)  # test that the returned string is an uuid, we dont want to return it however\n",
    "    return res\n",
    "\n",
    "\n",
    "def login_via_body(api_root: str, username: str, password: str) -> str:\n",
    "    res = post(f'{api_root}/v2/login', data=dict(username=username, password=password))\n",
    "    UUID(res)  # test that the returned string is an uuid, we dont want to return it however\n",
    "    return res\n",
    "\n",
    "\n",
    "def login_via_headers(api_root: str, username: str, password: str) -> str:\n",
    "    res = post(f'{api_root}/v2/login', auth=(username, password))\n",
    "    UUID(res)  # test that the returned string is an uuid, we dont want to return it however\n",
    "    return res\n",
    "\n",
    "\n",
    "def get_account(api_root: str, **kwargs) -> GenericJsonDict:\n",
    "    return get(f'{api_root}/v2/account', **kwargs)\n",
    "\n",
    "\n",
    "def get_account_by_id(api_root: str, user_id: str, **kwargs) -> GenericJsonDict:\n",
    "    return get(f'{api_root}/v2/account/{user_id}', **kwargs)\n",
    "\n",
    "\n",
    "def post_account(api_root: str, payload: dict, **kwargs):\n",
    "    return post(f'{api_root}/v2/account', payload, **kwargs)\n",
    "\n",
    "\n",
    "def put_account(api_root: str, payload: dict, **kwargs):\n",
    "    return put(f'{api_root}/v2/account', payload, **kwargs)\n",
    "\n",
    "\n",
    "def get_jobs(api_root: str, **kwargs):\n",
    "    return get(f'{api_root}/v2/jobs', **kwargs)\n",
    "\n",
    "\n",
    "def get_job_by_id(api_root: str, job_id: str, **kwargs):\n",
    "    return get(f'{api_root}/v2/jobs/{job_id}', **kwargs)\n",
    "\n",
    "\n",
    "def post_job(api_root: str, payload: dict, **kwargs):\n",
    "    return post(f'{api_root}/v2/jobs', payload, **kwargs)\n",
    "\n",
    "\n",
    "def delete_job_by_id(api_root: str, job_id: str, **kwargs):\n",
    "    return delete(f'{api_root}/v2/jobs/{job_id}', **kwargs)\n",
    "\n",
    "\n",
    "def put_job_take(api_root: str, payload: dict, **kwargs):\n",
    "    return put(f'{api_root}/v2/jobs/take', payload, **kwargs)\n",
    "\n",
    "\n",
    "def get_job_input_by_id(api_root: str, job_id: str, **kwargs):\n",
    "    return get(f'{api_root}/v2/jobs/{job_id}/input', **kwargs)\n",
    "\n",
    "\n",
    "def get_job_output_by_id(api_root: str, job_id: str, **kwargs):\n",
    "    return get(f'{api_root}/v2/jobs/{job_id}/output', **kwargs)\n",
    "\n",
    "\n",
    "def put_job_output_by_id(api_root: str, job_id: str, payload: dict, **kwargs):\n",
    "    return put(f'{api_root}/v2/jobs/{job_id}/output', payload, **kwargs)\n",
    "\n",
    "\n",
    "def put_job_failed_by_id(api_root: str, job_id: str, payload: dict, **kwargs):\n",
    "    return put(f'{api_root}/v2/jobs/{job_id}/failed', payload, **kwargs)\n",
    "\n",
    "\n",
    "def put_job_extra_by_id(api_root: str, job_id: str, payload: dict, **kwargs):\n",
    "    return put(f'{api_root}/v2/jobs/{job_id}/extra', payload, **kwargs)\n",
    "\n",
    "\n"
   ]
  },
  {
   "cell_type": "code",
   "execution_count": 3,
   "id": "fca2b161",
   "metadata": {},
   "outputs": [],
   "source": [
    "def get(url: str,\n",
    "        headers: Optional[Dict] = None,\n",
    "        auth_token: Optional[UUID] = None) -> Any:\n",
    "\n",
    "    if auth_token:\n",
    "        if not headers:\n",
    "            headers = dict()\n",
    "        headers['Authorization'] = f'Bearer {auth_token}'\n",
    "    req = requests.get(url, headers=headers)\n",
    "    if req.status_code == 200:\n",
    "        return req.json()\n",
    "    else:\n",
    "        #print(f'GET ERROR: {req.text}', file=sys.stderr)\n",
    "        req.raise_for_status()\n",
    "\n",
    "\n",
    "def post(url: str,\n",
    "         data: Optional[Dict] = None,\n",
    "         headers: Optional[Dict] = None,\n",
    "         auth_token: Optional[UUID] = None,\n",
    "         auth: Optional[Tuple[str, str]] = None) -> Any:\n",
    "\n",
    "    if auth_token:\n",
    "        if not headers:\n",
    "            headers = dict()\n",
    "        headers['Authorization'] = f'Bearer {auth_token}'\n",
    "    req = requests.post(url, json=data, headers=headers, auth=auth)\n",
    "    if req.status_code == 200:\n",
    "        return req.json()\n",
    "    else:\n",
    "        #print(f'POST ERROR: {req.text}', file=sys.stderr)\n",
    "        req.raise_for_status()\n",
    "\n",
    "\n",
    "def put(url: str,\n",
    "         data: Optional[Dict] = None,\n",
    "         headers: Optional[Dict] = None,\n",
    "         auth_token: Optional[UUID] = None,\n",
    "         auth: Optional[Tuple[str, str]] = None) -> Any:\n",
    "\n",
    "    if auth_token:\n",
    "        if not headers:\n",
    "            headers = dict()\n",
    "        headers['Authorization'] = f'Bearer {auth_token}'\n",
    "    req = requests.put(url, json=data, headers=headers, auth=auth)\n",
    "    if req.status_code == 200:\n",
    "        return req.json()\n",
    "    else:\n",
    "        #print(f'POST ERROR: {req.text}', file=sys.stderr)\n",
    "        req.raise_for_status()\n",
    "\n",
    "\n",
    "def delete(url: str,\n",
    "        headers: Optional[Dict] = None,\n",
    "        auth_token: Optional[UUID] = None) -> Any:\n",
    "\n",
    "    if auth_token:\n",
    "        if not headers:\n",
    "            headers = dict()\n",
    "        headers['Authorization'] = f'Bearer {auth_token}'\n",
    "    req = requests.delete(url, headers=headers)\n",
    "    if req.status_code == 200:\n",
    "        return req.json()\n",
    "    else:\n",
    "        #print(f'GET ERROR: {req.text}', file=sys.stderr)\n",
    "        req.raise_for_status()"
   ]
  },
  {
   "cell_type": "code",
   "execution_count": 4,
   "id": "e5d4fc13",
   "metadata": {},
   "outputs": [],
   "source": [
    "#username: pub_test\n",
    "#password: b2251884-a806-455c-bd31-f3cbee726686\n",
    "#url: api1.lcabyg.dk"
   ]
  },
  {
   "cell_type": "code",
   "execution_count": 8,
   "id": "a61a862f",
   "metadata": {},
   "outputs": [],
   "source": [
    "username = \"pub_test\"\n",
    "password = \"b2251884-a806-455c-bd31-f3cbee726686\"\n",
    "url = \"http://api1.lcabyg.dk\""
   ]
  },
  {
   "cell_type": "code",
   "execution_count": 9,
   "id": "56969d9d",
   "metadata": {},
   "outputs": [
    {
     "data": {
      "text/plain": [
       "'pong'"
      ]
     },
     "execution_count": 9,
     "metadata": {},
     "output_type": "execute_result"
    }
   ],
   "source": [
    "ping(url)"
   ]
  },
  {
   "cell_type": "code",
   "execution_count": 10,
   "id": "11651037",
   "metadata": {},
   "outputs": [
    {
     "data": {
      "text/plain": [
       "'ab83abd4-1215-4f0a-98c3-d818c606f4e9'"
      ]
     },
     "execution_count": 10,
     "metadata": {},
     "output_type": "execute_result"
    }
   ],
   "source": [
    "login_via_query(url, username, password) "
   ]
  },
  {
   "cell_type": "code",
   "execution_count": null,
   "id": "5821dbd0",
   "metadata": {},
   "outputs": [],
   "source": []
  },
  {
   "cell_type": "code",
   "execution_count": null,
   "id": "765a288a",
   "metadata": {},
   "outputs": [],
   "source": []
  }
 ],
 "metadata": {
  "kernelspec": {
   "display_name": "Python 3",
   "language": "python",
   "name": "python3"
  },
  "language_info": {
   "codemirror_mode": {
    "name": "ipython",
    "version": 3
   },
   "file_extension": ".py",
   "mimetype": "text/x-python",
   "name": "python",
   "nbconvert_exporter": "python",
   "pygments_lexer": "ipython3",
   "version": "3.7.6"
  }
 },
 "nbformat": 4,
 "nbformat_minor": 5
}
